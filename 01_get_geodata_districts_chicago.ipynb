{
 "cells": [
  {
   "cell_type": "markdown",
   "metadata": {},
   "source": [
    "# Goal: \n",
    "Creating a GeoPandas GeoDataFrame for all districts of the City of Chicago\n",
    "\n",
    "- Why: This GeoDataFrame will be the basis for any interactive maps i will be creating of the City of Chicago.\n",
    "- Source: [Chicago Community Areas Boundaries](https://data.cityofchicago.org/Facilities-Geographic-Boundaries/Boundaries-Community-Areas-current-/cauq-8yn6)\n",
    "1. Loading data into DataFrame\n",
    "2. Cleaning Data\n",
    "3. Adding the geometry of the City of Evanston (north end of Chicago) to the DataFrame, since Divvy has stations there...\n",
    "4. Converting dataframe to geodataframe\n",
    "5. Visualizing District areas on interactive map\n",
    "6. Upload to SQL Database\n"
   ]
  },
  {
   "cell_type": "markdown",
   "metadata": {},
   "source": [
    "## Importing some usefull packages for geospatial analysis\n",
    "        * make sure to install the packages to your environment, before importing"
   ]
  },
  {
   "cell_type": "code",
   "execution_count": 1,
   "metadata": {},
   "outputs": [],
   "source": [
    "# pandas\n",
    "import pandas as pd\n",
    "\n",
    "# additional import of the geopandas package\n",
    "import geopandas as gpd\n",
    "\n",
    "# numpy, \"numerical python\" - we'll cover this in the following notebooks.\n",
    "import numpy as np\n",
    "\n",
    "# import mathplotlib.pyplot as plt\n",
    "import matplotlib.pyplot as plt\n",
    "\n",
    "# shapely.geometry      Package shapely.geomerty is usefull to for checking, weather a oint is inside a polygon and converting string type\n",
    "from shapely import wkt\n",
    "from shapely.geometry import Polygon, LineString, Point\n",
    "\n",
    "# importing self made functions from sql_functions script\n",
    "import sql_functions as sf"
   ]
  },
  {
   "cell_type": "markdown",
   "metadata": {},
   "source": [
    "## 1. Loading data into DataFrame"
   ]
  },
  {
   "cell_type": "code",
   "execution_count": 2,
   "metadata": {},
   "outputs": [
    {
     "data": {
      "text/html": [
       "<div>\n",
       "<style scoped>\n",
       "    .dataframe tbody tr th:only-of-type {\n",
       "        vertical-align: middle;\n",
       "    }\n",
       "\n",
       "    .dataframe tbody tr th {\n",
       "        vertical-align: top;\n",
       "    }\n",
       "\n",
       "    .dataframe thead th {\n",
       "        text-align: right;\n",
       "    }\n",
       "</style>\n",
       "<table border=\"1\" class=\"dataframe\">\n",
       "  <thead>\n",
       "    <tr style=\"text-align: right;\">\n",
       "      <th></th>\n",
       "      <th>the_geom</th>\n",
       "      <th>PERIMETER</th>\n",
       "      <th>AREA</th>\n",
       "      <th>COMAREA_</th>\n",
       "      <th>COMAREA_ID</th>\n",
       "      <th>AREA_NUMBE</th>\n",
       "      <th>COMMUNITY</th>\n",
       "      <th>AREA_NUM_1</th>\n",
       "      <th>SHAPE_AREA</th>\n",
       "      <th>SHAPE_LEN</th>\n",
       "    </tr>\n",
       "  </thead>\n",
       "  <tbody>\n",
       "    <tr>\n",
       "      <th>0</th>\n",
       "      <td>MULTIPOLYGON (((-87.60914087617894 41.84469250...</td>\n",
       "      <td>0</td>\n",
       "      <td>0</td>\n",
       "      <td>0</td>\n",
       "      <td>0</td>\n",
       "      <td>35</td>\n",
       "      <td>DOUGLAS</td>\n",
       "      <td>35</td>\n",
       "      <td>4.600462e+07</td>\n",
       "      <td>31027.054510</td>\n",
       "    </tr>\n",
       "    <tr>\n",
       "      <th>1</th>\n",
       "      <td>MULTIPOLYGON (((-87.59215283879394 41.81692934...</td>\n",
       "      <td>0</td>\n",
       "      <td>0</td>\n",
       "      <td>0</td>\n",
       "      <td>0</td>\n",
       "      <td>36</td>\n",
       "      <td>OAKLAND</td>\n",
       "      <td>36</td>\n",
       "      <td>1.691396e+07</td>\n",
       "      <td>19565.506153</td>\n",
       "    </tr>\n",
       "    <tr>\n",
       "      <th>2</th>\n",
       "      <td>MULTIPOLYGON (((-87.62879823733725 41.80189303...</td>\n",
       "      <td>0</td>\n",
       "      <td>0</td>\n",
       "      <td>0</td>\n",
       "      <td>0</td>\n",
       "      <td>37</td>\n",
       "      <td>FULLER PARK</td>\n",
       "      <td>37</td>\n",
       "      <td>1.991670e+07</td>\n",
       "      <td>25339.089750</td>\n",
       "    </tr>\n",
       "    <tr>\n",
       "      <th>3</th>\n",
       "      <td>MULTIPOLYGON (((-87.6067081256125 41.816813770...</td>\n",
       "      <td>0</td>\n",
       "      <td>0</td>\n",
       "      <td>0</td>\n",
       "      <td>0</td>\n",
       "      <td>38</td>\n",
       "      <td>GRAND BOULEVARD</td>\n",
       "      <td>38</td>\n",
       "      <td>4.849250e+07</td>\n",
       "      <td>28196.837157</td>\n",
       "    </tr>\n",
       "    <tr>\n",
       "      <th>4</th>\n",
       "      <td>MULTIPOLYGON (((-87.59215283879394 41.81692934...</td>\n",
       "      <td>0</td>\n",
       "      <td>0</td>\n",
       "      <td>0</td>\n",
       "      <td>0</td>\n",
       "      <td>39</td>\n",
       "      <td>KENWOOD</td>\n",
       "      <td>39</td>\n",
       "      <td>2.907174e+07</td>\n",
       "      <td>23325.167906</td>\n",
       "    </tr>\n",
       "  </tbody>\n",
       "</table>\n",
       "</div>"
      ],
      "text/plain": [
       "                                            the_geom  PERIMETER  AREA  \\\n",
       "0  MULTIPOLYGON (((-87.60914087617894 41.84469250...          0     0   \n",
       "1  MULTIPOLYGON (((-87.59215283879394 41.81692934...          0     0   \n",
       "2  MULTIPOLYGON (((-87.62879823733725 41.80189303...          0     0   \n",
       "3  MULTIPOLYGON (((-87.6067081256125 41.816813770...          0     0   \n",
       "4  MULTIPOLYGON (((-87.59215283879394 41.81692934...          0     0   \n",
       "\n",
       "   COMAREA_  COMAREA_ID  AREA_NUMBE        COMMUNITY  AREA_NUM_1  \\\n",
       "0         0           0          35          DOUGLAS          35   \n",
       "1         0           0          36          OAKLAND          36   \n",
       "2         0           0          37      FULLER PARK          37   \n",
       "3         0           0          38  GRAND BOULEVARD          38   \n",
       "4         0           0          39          KENWOOD          39   \n",
       "\n",
       "     SHAPE_AREA     SHAPE_LEN  \n",
       "0  4.600462e+07  31027.054510  \n",
       "1  1.691396e+07  19565.506153  \n",
       "2  1.991670e+07  25339.089750  \n",
       "3  4.849250e+07  28196.837157  \n",
       "4  2.907174e+07  23325.167906  "
      ]
     },
     "execution_count": 2,
     "metadata": {},
     "output_type": "execute_result"
    }
   ],
   "source": [
    "# loading chicagos 77districts as  multipolygons into dataframe:\n",
    "pfad = \"data/comm_areas_spatial.csv\"\n",
    "df_areas = pd.read_csv(pfad)\n",
    "df_areas.head()"
   ]
  },
  {
   "cell_type": "markdown",
   "metadata": {},
   "source": [
    "As we can see, the column named \"the_geom\" holds the Geometry of all 77 districts of Chicago. Lets take a look at the datatypes"
   ]
  },
  {
   "cell_type": "code",
   "execution_count": 3,
   "metadata": {},
   "outputs": [
    {
     "name": "stdout",
     "output_type": "stream",
     "text": [
      "<class 'pandas.core.frame.DataFrame'>\n",
      "RangeIndex: 77 entries, 0 to 76\n",
      "Data columns (total 10 columns):\n",
      " #   Column      Non-Null Count  Dtype  \n",
      "---  ------      --------------  -----  \n",
      " 0   the_geom    77 non-null     object \n",
      " 1   PERIMETER   77 non-null     int64  \n",
      " 2   AREA        77 non-null     int64  \n",
      " 3   COMAREA_    77 non-null     int64  \n",
      " 4   COMAREA_ID  77 non-null     int64  \n",
      " 5   AREA_NUMBE  77 non-null     int64  \n",
      " 6   COMMUNITY   77 non-null     object \n",
      " 7   AREA_NUM_1  77 non-null     int64  \n",
      " 8   SHAPE_AREA  77 non-null     float64\n",
      " 9   SHAPE_LEN   77 non-null     float64\n",
      "dtypes: float64(2), int64(6), object(2)\n",
      "memory usage: 6.1+ KB\n"
     ]
    }
   ],
   "source": [
    "df_areas.info()"
   ]
  },
  {
   "cell_type": "markdown",
   "metadata": {},
   "source": [
    "## 2. Cleaning Data:"
   ]
  },
  {
   "cell_type": "code",
   "execution_count": 4,
   "metadata": {},
   "outputs": [
    {
     "data": {
      "text/html": [
       "<div>\n",
       "<style scoped>\n",
       "    .dataframe tbody tr th:only-of-type {\n",
       "        vertical-align: middle;\n",
       "    }\n",
       "\n",
       "    .dataframe tbody tr th {\n",
       "        vertical-align: top;\n",
       "    }\n",
       "\n",
       "    .dataframe thead th {\n",
       "        text-align: right;\n",
       "    }\n",
       "</style>\n",
       "<table border=\"1\" class=\"dataframe\">\n",
       "  <thead>\n",
       "    <tr style=\"text-align: right;\">\n",
       "      <th></th>\n",
       "      <th>the_geom</th>\n",
       "      <th>PERIMETER</th>\n",
       "      <th>AREA</th>\n",
       "      <th>COMAREA_</th>\n",
       "      <th>COMAREA_ID</th>\n",
       "      <th>AREA_NUMBE</th>\n",
       "      <th>COMMUNITY</th>\n",
       "      <th>AREA_NUM_1</th>\n",
       "      <th>SHAPE_AREA</th>\n",
       "      <th>SHAPE_LEN</th>\n",
       "    </tr>\n",
       "  </thead>\n",
       "  <tbody>\n",
       "    <tr>\n",
       "      <th>0</th>\n",
       "      <td>MULTIPOLYGON (((-87.60914087617894 41.84469250...</td>\n",
       "      <td>0</td>\n",
       "      <td>0</td>\n",
       "      <td>0</td>\n",
       "      <td>0</td>\n",
       "      <td>35</td>\n",
       "      <td>DOUGLAS</td>\n",
       "      <td>35</td>\n",
       "      <td>4.600462e+07</td>\n",
       "      <td>31027.05451</td>\n",
       "    </tr>\n",
       "  </tbody>\n",
       "</table>\n",
       "</div>"
      ],
      "text/plain": [
       "                                            the_geom  PERIMETER  AREA  \\\n",
       "0  MULTIPOLYGON (((-87.60914087617894 41.84469250...          0     0   \n",
       "\n",
       "   COMAREA_  COMAREA_ID  AREA_NUMBE COMMUNITY  AREA_NUM_1    SHAPE_AREA  \\\n",
       "0         0           0          35   DOUGLAS          35  4.600462e+07   \n",
       "\n",
       "     SHAPE_LEN  \n",
       "0  31027.05451  "
      ]
     },
     "execution_count": 4,
     "metadata": {},
     "output_type": "execute_result"
    }
   ],
   "source": [
    "df_areas.head(1)"
   ]
  },
  {
   "cell_type": "code",
   "execution_count": 5,
   "metadata": {},
   "outputs": [],
   "source": [
    "# drop Columns i dont need:\n",
    "df_areas.drop(columns=[\"PERIMETER\",\"AREA\",\"COMAREA_\",\"AREA_NUM_1\",\"COMAREA_ID\"], inplace= True)\n",
    "# Columns headers in lowercase:\n",
    "df_areas.columns = df_areas.columns.str.lower()"
   ]
  },
  {
   "cell_type": "code",
   "execution_count": 6,
   "metadata": {},
   "outputs": [
    {
     "data": {
      "text/html": [
       "<div>\n",
       "<style scoped>\n",
       "    .dataframe tbody tr th:only-of-type {\n",
       "        vertical-align: middle;\n",
       "    }\n",
       "\n",
       "    .dataframe tbody tr th {\n",
       "        vertical-align: top;\n",
       "    }\n",
       "\n",
       "    .dataframe thead th {\n",
       "        text-align: right;\n",
       "    }\n",
       "</style>\n",
       "<table border=\"1\" class=\"dataframe\">\n",
       "  <thead>\n",
       "    <tr style=\"text-align: right;\">\n",
       "      <th></th>\n",
       "      <th>the_geom</th>\n",
       "      <th>area_numbe</th>\n",
       "      <th>community</th>\n",
       "      <th>shape_area</th>\n",
       "      <th>shape_len</th>\n",
       "    </tr>\n",
       "  </thead>\n",
       "  <tbody>\n",
       "    <tr>\n",
       "      <th>0</th>\n",
       "      <td>MULTIPOLYGON (((-87.60914087617894 41.84469250...</td>\n",
       "      <td>35</td>\n",
       "      <td>DOUGLAS</td>\n",
       "      <td>4.600462e+07</td>\n",
       "      <td>31027.054510</td>\n",
       "    </tr>\n",
       "    <tr>\n",
       "      <th>1</th>\n",
       "      <td>MULTIPOLYGON (((-87.59215283879394 41.81692934...</td>\n",
       "      <td>36</td>\n",
       "      <td>OAKLAND</td>\n",
       "      <td>1.691396e+07</td>\n",
       "      <td>19565.506153</td>\n",
       "    </tr>\n",
       "    <tr>\n",
       "      <th>2</th>\n",
       "      <td>MULTIPOLYGON (((-87.62879823733725 41.80189303...</td>\n",
       "      <td>37</td>\n",
       "      <td>FULLER PARK</td>\n",
       "      <td>1.991670e+07</td>\n",
       "      <td>25339.089750</td>\n",
       "    </tr>\n",
       "    <tr>\n",
       "      <th>3</th>\n",
       "      <td>MULTIPOLYGON (((-87.6067081256125 41.816813770...</td>\n",
       "      <td>38</td>\n",
       "      <td>GRAND BOULEVARD</td>\n",
       "      <td>4.849250e+07</td>\n",
       "      <td>28196.837157</td>\n",
       "    </tr>\n",
       "    <tr>\n",
       "      <th>4</th>\n",
       "      <td>MULTIPOLYGON (((-87.59215283879394 41.81692934...</td>\n",
       "      <td>39</td>\n",
       "      <td>KENWOOD</td>\n",
       "      <td>2.907174e+07</td>\n",
       "      <td>23325.167906</td>\n",
       "    </tr>\n",
       "  </tbody>\n",
       "</table>\n",
       "</div>"
      ],
      "text/plain": [
       "                                            the_geom  area_numbe  \\\n",
       "0  MULTIPOLYGON (((-87.60914087617894 41.84469250...          35   \n",
       "1  MULTIPOLYGON (((-87.59215283879394 41.81692934...          36   \n",
       "2  MULTIPOLYGON (((-87.62879823733725 41.80189303...          37   \n",
       "3  MULTIPOLYGON (((-87.6067081256125 41.816813770...          38   \n",
       "4  MULTIPOLYGON (((-87.59215283879394 41.81692934...          39   \n",
       "\n",
       "         community    shape_area     shape_len  \n",
       "0          DOUGLAS  4.600462e+07  31027.054510  \n",
       "1          OAKLAND  1.691396e+07  19565.506153  \n",
       "2      FULLER PARK  1.991670e+07  25339.089750  \n",
       "3  GRAND BOULEVARD  4.849250e+07  28196.837157  \n",
       "4          KENWOOD  2.907174e+07  23325.167906  "
      ]
     },
     "execution_count": 6,
     "metadata": {},
     "output_type": "execute_result"
    }
   ],
   "source": [
    "df_areas.head()"
   ]
  },
  {
   "cell_type": "code",
   "execution_count": 7,
   "metadata": {},
   "outputs": [
    {
     "data": {
      "text/html": [
       "<div>\n",
       "<style scoped>\n",
       "    .dataframe tbody tr th:only-of-type {\n",
       "        vertical-align: middle;\n",
       "    }\n",
       "\n",
       "    .dataframe tbody tr th {\n",
       "        vertical-align: top;\n",
       "    }\n",
       "\n",
       "    .dataframe thead th {\n",
       "        text-align: right;\n",
       "    }\n",
       "</style>\n",
       "<table border=\"1\" class=\"dataframe\">\n",
       "  <thead>\n",
       "    <tr style=\"text-align: right;\">\n",
       "      <th></th>\n",
       "      <th>geometry</th>\n",
       "      <th>area_number</th>\n",
       "      <th>community_name</th>\n",
       "      <th>shape_area</th>\n",
       "      <th>shape_len</th>\n",
       "    </tr>\n",
       "  </thead>\n",
       "  <tbody>\n",
       "    <tr>\n",
       "      <th>0</th>\n",
       "      <td>MULTIPOLYGON (((-87.60914087617894 41.84469250...</td>\n",
       "      <td>35</td>\n",
       "      <td>DOUGLAS</td>\n",
       "      <td>4.600462e+07</td>\n",
       "      <td>31027.054510</td>\n",
       "    </tr>\n",
       "    <tr>\n",
       "      <th>1</th>\n",
       "      <td>MULTIPOLYGON (((-87.59215283879394 41.81692934...</td>\n",
       "      <td>36</td>\n",
       "      <td>OAKLAND</td>\n",
       "      <td>1.691396e+07</td>\n",
       "      <td>19565.506153</td>\n",
       "    </tr>\n",
       "    <tr>\n",
       "      <th>2</th>\n",
       "      <td>MULTIPOLYGON (((-87.62879823733725 41.80189303...</td>\n",
       "      <td>37</td>\n",
       "      <td>FULLER PARK</td>\n",
       "      <td>1.991670e+07</td>\n",
       "      <td>25339.089750</td>\n",
       "    </tr>\n",
       "    <tr>\n",
       "      <th>3</th>\n",
       "      <td>MULTIPOLYGON (((-87.6067081256125 41.816813770...</td>\n",
       "      <td>38</td>\n",
       "      <td>GRAND BOULEVARD</td>\n",
       "      <td>4.849250e+07</td>\n",
       "      <td>28196.837157</td>\n",
       "    </tr>\n",
       "    <tr>\n",
       "      <th>4</th>\n",
       "      <td>MULTIPOLYGON (((-87.59215283879394 41.81692934...</td>\n",
       "      <td>39</td>\n",
       "      <td>KENWOOD</td>\n",
       "      <td>2.907174e+07</td>\n",
       "      <td>23325.167906</td>\n",
       "    </tr>\n",
       "  </tbody>\n",
       "</table>\n",
       "</div>"
      ],
      "text/plain": [
       "                                            geometry  area_number  \\\n",
       "0  MULTIPOLYGON (((-87.60914087617894 41.84469250...           35   \n",
       "1  MULTIPOLYGON (((-87.59215283879394 41.81692934...           36   \n",
       "2  MULTIPOLYGON (((-87.62879823733725 41.80189303...           37   \n",
       "3  MULTIPOLYGON (((-87.6067081256125 41.816813770...           38   \n",
       "4  MULTIPOLYGON (((-87.59215283879394 41.81692934...           39   \n",
       "\n",
       "    community_name    shape_area     shape_len  \n",
       "0          DOUGLAS  4.600462e+07  31027.054510  \n",
       "1          OAKLAND  1.691396e+07  19565.506153  \n",
       "2      FULLER PARK  1.991670e+07  25339.089750  \n",
       "3  GRAND BOULEVARD  4.849250e+07  28196.837157  \n",
       "4          KENWOOD  2.907174e+07  23325.167906  "
      ]
     },
     "execution_count": 7,
     "metadata": {},
     "output_type": "execute_result"
    }
   ],
   "source": [
    "# renaming columns:\n",
    "df_areas.columns = [\"geometry\", \"area_number\", \"community_name\", \"shape_area\", \"shape_len\"]\n",
    "df_areas.head(5)"
   ]
  },
  {
   "cell_type": "markdown",
   "metadata": {},
   "source": [
    "I want the Community area names not to in lowercase:"
   ]
  },
  {
   "cell_type": "code",
   "execution_count": 8,
   "metadata": {},
   "outputs": [
    {
     "data": {
      "text/html": [
       "<div>\n",
       "<style scoped>\n",
       "    .dataframe tbody tr th:only-of-type {\n",
       "        vertical-align: middle;\n",
       "    }\n",
       "\n",
       "    .dataframe tbody tr th {\n",
       "        vertical-align: top;\n",
       "    }\n",
       "\n",
       "    .dataframe thead th {\n",
       "        text-align: right;\n",
       "    }\n",
       "</style>\n",
       "<table border=\"1\" class=\"dataframe\">\n",
       "  <thead>\n",
       "    <tr style=\"text-align: right;\">\n",
       "      <th></th>\n",
       "      <th>geometry</th>\n",
       "      <th>area_number</th>\n",
       "      <th>community_name</th>\n",
       "      <th>shape_area</th>\n",
       "      <th>shape_len</th>\n",
       "    </tr>\n",
       "  </thead>\n",
       "  <tbody>\n",
       "    <tr>\n",
       "      <th>0</th>\n",
       "      <td>MULTIPOLYGON (((-87.60914087617894 41.84469250...</td>\n",
       "      <td>35</td>\n",
       "      <td>Douglas</td>\n",
       "      <td>4.600462e+07</td>\n",
       "      <td>31027.054510</td>\n",
       "    </tr>\n",
       "    <tr>\n",
       "      <th>1</th>\n",
       "      <td>MULTIPOLYGON (((-87.59215283879394 41.81692934...</td>\n",
       "      <td>36</td>\n",
       "      <td>Oakland</td>\n",
       "      <td>1.691396e+07</td>\n",
       "      <td>19565.506153</td>\n",
       "    </tr>\n",
       "    <tr>\n",
       "      <th>2</th>\n",
       "      <td>MULTIPOLYGON (((-87.62879823733725 41.80189303...</td>\n",
       "      <td>37</td>\n",
       "      <td>Fuller Park</td>\n",
       "      <td>1.991670e+07</td>\n",
       "      <td>25339.089750</td>\n",
       "    </tr>\n",
       "    <tr>\n",
       "      <th>3</th>\n",
       "      <td>MULTIPOLYGON (((-87.6067081256125 41.816813770...</td>\n",
       "      <td>38</td>\n",
       "      <td>Grand Boulevard</td>\n",
       "      <td>4.849250e+07</td>\n",
       "      <td>28196.837157</td>\n",
       "    </tr>\n",
       "    <tr>\n",
       "      <th>4</th>\n",
       "      <td>MULTIPOLYGON (((-87.59215283879394 41.81692934...</td>\n",
       "      <td>39</td>\n",
       "      <td>Kenwood</td>\n",
       "      <td>2.907174e+07</td>\n",
       "      <td>23325.167906</td>\n",
       "    </tr>\n",
       "  </tbody>\n",
       "</table>\n",
       "</div>"
      ],
      "text/plain": [
       "                                            geometry  area_number  \\\n",
       "0  MULTIPOLYGON (((-87.60914087617894 41.84469250...           35   \n",
       "1  MULTIPOLYGON (((-87.59215283879394 41.81692934...           36   \n",
       "2  MULTIPOLYGON (((-87.62879823733725 41.80189303...           37   \n",
       "3  MULTIPOLYGON (((-87.6067081256125 41.816813770...           38   \n",
       "4  MULTIPOLYGON (((-87.59215283879394 41.81692934...           39   \n",
       "\n",
       "    community_name    shape_area     shape_len  \n",
       "0          Douglas  4.600462e+07  31027.054510  \n",
       "1          Oakland  1.691396e+07  19565.506153  \n",
       "2      Fuller Park  1.991670e+07  25339.089750  \n",
       "3  Grand Boulevard  4.849250e+07  28196.837157  \n",
       "4          Kenwood  2.907174e+07  23325.167906  "
      ]
     },
     "execution_count": 8,
     "metadata": {},
     "output_type": "execute_result"
    }
   ],
   "source": [
    "# changing community_names format:\n",
    "df_areas[\"community_name\"] = df_areas[\"community_name\"].str.lower().str.title()     # Capitalizes every Word in a string\n",
    "df_areas.head(5)"
   ]
  },
  {
   "cell_type": "markdown",
   "metadata": {},
   "source": [
    "## 3. Adding the geometry of the City of Evanston (north end of Chicago) to the Geodataframe, since Divvy has stations there...\n",
    "    - Source: https://data.cityofevanston.org/Information-Technology-includes-maps-geospatial-da/The-City-of-Evanston/4qkz-evsc"
   ]
  },
  {
   "cell_type": "code",
   "execution_count": 9,
   "metadata": {},
   "outputs": [
    {
     "data": {
      "text/html": [
       "<div>\n",
       "<style scoped>\n",
       "    .dataframe tbody tr th:only-of-type {\n",
       "        vertical-align: middle;\n",
       "    }\n",
       "\n",
       "    .dataframe tbody tr th {\n",
       "        vertical-align: top;\n",
       "    }\n",
       "\n",
       "    .dataframe thead th {\n",
       "        text-align: right;\n",
       "    }\n",
       "</style>\n",
       "<table border=\"1\" class=\"dataframe\">\n",
       "  <thead>\n",
       "    <tr style=\"text-align: right;\">\n",
       "      <th></th>\n",
       "      <th>the_geom</th>\n",
       "      <th>OBJECTID</th>\n",
       "      <th>SHAPE.STArea()</th>\n",
       "      <th>SHAPE.STLength()</th>\n",
       "    </tr>\n",
       "  </thead>\n",
       "  <tbody>\n",
       "    <tr>\n",
       "      <th>0</th>\n",
       "      <td>MULTIPOLYGON (((-87.679598841956 42.0715863257...</td>\n",
       "      <td>962</td>\n",
       "      <td>2.185974e+08</td>\n",
       "      <td>77535.056482</td>\n",
       "    </tr>\n",
       "  </tbody>\n",
       "</table>\n",
       "</div>"
      ],
      "text/plain": [
       "                                            the_geom  OBJECTID  \\\n",
       "0  MULTIPOLYGON (((-87.679598841956 42.0715863257...       962   \n",
       "\n",
       "   SHAPE.STArea()  SHAPE.STLength()  \n",
       "0    2.185974e+08      77535.056482  "
      ]
     },
     "execution_count": 9,
     "metadata": {},
     "output_type": "execute_result"
    }
   ],
   "source": [
    "# loading csv file into DataFrame:\n",
    "df_evanston = pd.read_csv(\"data/The_City_of_Evanston.csv\")\n",
    "df_evanston"
   ]
  },
  {
   "cell_type": "markdown",
   "metadata": {},
   "source": [
    "Lets just store the Geometry of Evanston in a variable:"
   ]
  },
  {
   "cell_type": "code",
   "execution_count": 10,
   "metadata": {},
   "outputs": [],
   "source": [
    "polygon_evan = df_evanston[\"the_geom\"][0]"
   ]
  },
  {
   "cell_type": "code",
   "execution_count": 11,
   "metadata": {},
   "outputs": [
    {
     "data": {
      "text/html": [
       "<div>\n",
       "<style scoped>\n",
       "    .dataframe tbody tr th:only-of-type {\n",
       "        vertical-align: middle;\n",
       "    }\n",
       "\n",
       "    .dataframe tbody tr th {\n",
       "        vertical-align: top;\n",
       "    }\n",
       "\n",
       "    .dataframe thead th {\n",
       "        text-align: right;\n",
       "    }\n",
       "</style>\n",
       "<table border=\"1\" class=\"dataframe\">\n",
       "  <thead>\n",
       "    <tr style=\"text-align: right;\">\n",
       "      <th></th>\n",
       "      <th>geometry</th>\n",
       "      <th>area_number</th>\n",
       "      <th>community_name</th>\n",
       "      <th>shape_area</th>\n",
       "      <th>shape_len</th>\n",
       "    </tr>\n",
       "  </thead>\n",
       "  <tbody>\n",
       "    <tr>\n",
       "      <th>0</th>\n",
       "      <td>MULTIPOLYGON (((-87.60914087617894 41.84469250...</td>\n",
       "      <td>35</td>\n",
       "      <td>Douglas</td>\n",
       "      <td>4.600462e+07</td>\n",
       "      <td>31027.054510</td>\n",
       "    </tr>\n",
       "    <tr>\n",
       "      <th>1</th>\n",
       "      <td>MULTIPOLYGON (((-87.59215283879394 41.81692934...</td>\n",
       "      <td>36</td>\n",
       "      <td>Oakland</td>\n",
       "      <td>1.691396e+07</td>\n",
       "      <td>19565.506153</td>\n",
       "    </tr>\n",
       "  </tbody>\n",
       "</table>\n",
       "</div>"
      ],
      "text/plain": [
       "                                            geometry  area_number  \\\n",
       "0  MULTIPOLYGON (((-87.60914087617894 41.84469250...           35   \n",
       "1  MULTIPOLYGON (((-87.59215283879394 41.81692934...           36   \n",
       "\n",
       "  community_name    shape_area     shape_len  \n",
       "0        Douglas  4.600462e+07  31027.054510  \n",
       "1        Oakland  1.691396e+07  19565.506153  "
      ]
     },
     "execution_count": 11,
     "metadata": {},
     "output_type": "execute_result"
    }
   ],
   "source": [
    "df_areas.head(2)"
   ]
  },
  {
   "cell_type": "code",
   "execution_count": 12,
   "metadata": {},
   "outputs": [
    {
     "data": {
      "text/html": [
       "<div>\n",
       "<style scoped>\n",
       "    .dataframe tbody tr th:only-of-type {\n",
       "        vertical-align: middle;\n",
       "    }\n",
       "\n",
       "    .dataframe tbody tr th {\n",
       "        vertical-align: top;\n",
       "    }\n",
       "\n",
       "    .dataframe thead th {\n",
       "        text-align: right;\n",
       "    }\n",
       "</style>\n",
       "<table border=\"1\" class=\"dataframe\">\n",
       "  <thead>\n",
       "    <tr style=\"text-align: right;\">\n",
       "      <th></th>\n",
       "      <th>geometry</th>\n",
       "      <th>area_number</th>\n",
       "      <th>community_name</th>\n",
       "      <th>shape_area</th>\n",
       "      <th>shape_len</th>\n",
       "    </tr>\n",
       "  </thead>\n",
       "  <tbody>\n",
       "    <tr>\n",
       "      <th>73</th>\n",
       "      <td>MULTIPOLYGON (((-87.64215204651398 41.68508211...</td>\n",
       "      <td>75</td>\n",
       "      <td>Morgan Park</td>\n",
       "      <td>9.187734e+07</td>\n",
       "      <td>46396.419362</td>\n",
       "    </tr>\n",
       "    <tr>\n",
       "      <th>74</th>\n",
       "      <td>MULTIPOLYGON (((-87.83658087874365 41.98639611...</td>\n",
       "      <td>76</td>\n",
       "      <td>Ohare</td>\n",
       "      <td>3.718356e+08</td>\n",
       "      <td>173625.984660</td>\n",
       "    </tr>\n",
       "    <tr>\n",
       "      <th>75</th>\n",
       "      <td>MULTIPOLYGON (((-87.65455590025104 41.99816614...</td>\n",
       "      <td>77</td>\n",
       "      <td>Edgewater</td>\n",
       "      <td>4.844999e+07</td>\n",
       "      <td>31004.830946</td>\n",
       "    </tr>\n",
       "    <tr>\n",
       "      <th>76</th>\n",
       "      <td>MULTIPOLYGON (((-87.80675853375328 42.00083736...</td>\n",
       "      <td>9</td>\n",
       "      <td>Edison Park</td>\n",
       "      <td>3.163631e+07</td>\n",
       "      <td>25937.226841</td>\n",
       "    </tr>\n",
       "    <tr>\n",
       "      <th>77</th>\n",
       "      <td>MULTIPOLYGON (((-87.679598841956 42.0715863257...</td>\n",
       "      <td>78</td>\n",
       "      <td>City Of Evanston</td>\n",
       "      <td>0.000000e+00</td>\n",
       "      <td>0.000000</td>\n",
       "    </tr>\n",
       "  </tbody>\n",
       "</table>\n",
       "</div>"
      ],
      "text/plain": [
       "                                             geometry  area_number  \\\n",
       "73  MULTIPOLYGON (((-87.64215204651398 41.68508211...           75   \n",
       "74  MULTIPOLYGON (((-87.83658087874365 41.98639611...           76   \n",
       "75  MULTIPOLYGON (((-87.65455590025104 41.99816614...           77   \n",
       "76  MULTIPOLYGON (((-87.80675853375328 42.00083736...            9   \n",
       "77  MULTIPOLYGON (((-87.679598841956 42.0715863257...           78   \n",
       "\n",
       "      community_name    shape_area      shape_len  \n",
       "73       Morgan Park  9.187734e+07   46396.419362  \n",
       "74             Ohare  3.718356e+08  173625.984660  \n",
       "75         Edgewater  4.844999e+07   31004.830946  \n",
       "76       Edison Park  3.163631e+07   25937.226841  \n",
       "77  City Of Evanston  0.000000e+00       0.000000  "
      ]
     },
     "execution_count": 12,
     "metadata": {},
     "output_type": "execute_result"
    }
   ],
   "source": [
    "# adding to the df_areas the row with the city of Evanston\n",
    "df_areas.loc[len(df_areas.index)] = [polygon_evan,78,\"City Of Evanston\",0,0]\n",
    "df_areas.tail()"
   ]
  },
  {
   "cell_type": "markdown",
   "metadata": {},
   "source": [
    "## 4. Converting dataframe to geodataframe\n",
    "    - creating function, that converts the geometry column to an actual shapely geometry, and than converts the dataframe to a geodataframe:"
   ]
  },
  {
   "cell_type": "code",
   "execution_count": 13,
   "metadata": {},
   "outputs": [],
   "source": [
    "def to_gdf(dataframe, geometry_column):\n",
    "    '''Input: DataFrame and the Column that has the geometry stored as a string\n",
    "        Output: geodataframe, with added column named \"new_geometry\" '''\n",
    "    new_dataframe = dataframe\n",
    "    new_dataframe[\"new_geometry\"] = gpd.GeoSeries.from_wkt(dataframe[str(geometry_column)])\n",
    "    gdf = gpd.GeoDataFrame(new_dataframe, geometry=\"new_geometry\",crs=\"WGS 84\")         # CRS = coordinate reference system\n",
    "    # the crs is needed, cause otherwise the district polygons would just be a collection of gpolygons in arbitrary space. The \n",
    "    # crs tells python, how these polygons relate to places on the earth.\n",
    "    return gdf\n"
   ]
  },
  {
   "cell_type": "code",
   "execution_count": 14,
   "metadata": {},
   "outputs": [
    {
     "name": "stdout",
     "output_type": "stream",
     "text": [
      "<class 'geopandas.geodataframe.GeoDataFrame'>\n",
      "Int64Index: 78 entries, 0 to 77\n",
      "Data columns (total 6 columns):\n",
      " #   Column          Non-Null Count  Dtype   \n",
      "---  ------          --------------  -----   \n",
      " 0   geometry        78 non-null     object  \n",
      " 1   area_number     78 non-null     int64   \n",
      " 2   community_name  78 non-null     object  \n",
      " 3   shape_area      78 non-null     float64 \n",
      " 4   shape_len       78 non-null     float64 \n",
      " 5   new_geometry    78 non-null     geometry\n",
      "dtypes: float64(2), geometry(1), int64(1), object(2)\n",
      "memory usage: 4.3+ KB\n"
     ]
    }
   ],
   "source": [
    "# calling function to convert dataframe into Geodataframe:\n",
    "gdf_areas = to_gdf(df_areas,\"geometry\")\n",
    "gdf_areas.info()"
   ]
  },
  {
   "cell_type": "markdown",
   "metadata": {},
   "source": [
    "As we can see, there is now a \"new_geometry\" column of datatype geometry. So now we can get rid of the old \"geometry.."
   ]
  },
  {
   "cell_type": "code",
   "execution_count": 15,
   "metadata": {},
   "outputs": [
    {
     "data": {
      "text/html": [
       "<div>\n",
       "<style scoped>\n",
       "    .dataframe tbody tr th:only-of-type {\n",
       "        vertical-align: middle;\n",
       "    }\n",
       "\n",
       "    .dataframe tbody tr th {\n",
       "        vertical-align: top;\n",
       "    }\n",
       "\n",
       "    .dataframe thead th {\n",
       "        text-align: right;\n",
       "    }\n",
       "</style>\n",
       "<table border=\"1\" class=\"dataframe\">\n",
       "  <thead>\n",
       "    <tr style=\"text-align: right;\">\n",
       "      <th></th>\n",
       "      <th>area_number</th>\n",
       "      <th>community_name</th>\n",
       "      <th>shape_area</th>\n",
       "      <th>shape_len</th>\n",
       "      <th>new_geometry</th>\n",
       "    </tr>\n",
       "  </thead>\n",
       "  <tbody>\n",
       "    <tr>\n",
       "      <th>0</th>\n",
       "      <td>35</td>\n",
       "      <td>Douglas</td>\n",
       "      <td>4.600462e+07</td>\n",
       "      <td>31027.054510</td>\n",
       "      <td>MULTIPOLYGON (((-87.60914 41.84469, -87.60915 ...</td>\n",
       "    </tr>\n",
       "    <tr>\n",
       "      <th>1</th>\n",
       "      <td>36</td>\n",
       "      <td>Oakland</td>\n",
       "      <td>1.691396e+07</td>\n",
       "      <td>19565.506153</td>\n",
       "      <td>MULTIPOLYGON (((-87.59215 41.81693, -87.59231 ...</td>\n",
       "    </tr>\n",
       "  </tbody>\n",
       "</table>\n",
       "</div>"
      ],
      "text/plain": [
       "   area_number community_name    shape_area     shape_len  \\\n",
       "0           35        Douglas  4.600462e+07  31027.054510   \n",
       "1           36        Oakland  1.691396e+07  19565.506153   \n",
       "\n",
       "                                        new_geometry  \n",
       "0  MULTIPOLYGON (((-87.60914 41.84469, -87.60915 ...  \n",
       "1  MULTIPOLYGON (((-87.59215 41.81693, -87.59231 ...  "
      ]
     },
     "execution_count": 15,
     "metadata": {},
     "output_type": "execute_result"
    }
   ],
   "source": [
    "# droping no needed Geometry column, which has has the geometry stored as string\n",
    "gdf_areas.drop(columns=[\"geometry\"],inplace=True)\n",
    "gdf_areas.head(2)"
   ]
  },
  {
   "cell_type": "code",
   "execution_count": 16,
   "metadata": {},
   "outputs": [
    {
     "data": {
      "text/html": [
       "<div>\n",
       "<style scoped>\n",
       "    .dataframe tbody tr th:only-of-type {\n",
       "        vertical-align: middle;\n",
       "    }\n",
       "\n",
       "    .dataframe tbody tr th {\n",
       "        vertical-align: top;\n",
       "    }\n",
       "\n",
       "    .dataframe thead th {\n",
       "        text-align: right;\n",
       "    }\n",
       "</style>\n",
       "<table border=\"1\" class=\"dataframe\">\n",
       "  <thead>\n",
       "    <tr style=\"text-align: right;\">\n",
       "      <th></th>\n",
       "      <th>area_number</th>\n",
       "      <th>community_name</th>\n",
       "      <th>shape_area</th>\n",
       "      <th>shape_len</th>\n",
       "      <th>new_geometry</th>\n",
       "    </tr>\n",
       "  </thead>\n",
       "  <tbody>\n",
       "    <tr>\n",
       "      <th>9</th>\n",
       "      <td>1</td>\n",
       "      <td>Rogers Park</td>\n",
       "      <td>5.125990e+07</td>\n",
       "      <td>34052.397576</td>\n",
       "      <td>MULTIPOLYGON (((-87.65456 41.99817, -87.65574 ...</td>\n",
       "    </tr>\n",
       "    <tr>\n",
       "      <th>19</th>\n",
       "      <td>2</td>\n",
       "      <td>West Ridge</td>\n",
       "      <td>9.842909e+07</td>\n",
       "      <td>43020.689458</td>\n",
       "      <td>MULTIPOLYGON (((-87.68465 42.01948, -87.68464 ...</td>\n",
       "    </tr>\n",
       "    <tr>\n",
       "      <th>30</th>\n",
       "      <td>3</td>\n",
       "      <td>Uptown</td>\n",
       "      <td>6.509564e+07</td>\n",
       "      <td>46972.794555</td>\n",
       "      <td>MULTIPOLYGON (((-87.64102 41.95480, -87.64400 ...</td>\n",
       "    </tr>\n",
       "    <tr>\n",
       "      <th>5</th>\n",
       "      <td>4</td>\n",
       "      <td>Lincoln Square</td>\n",
       "      <td>7.135233e+07</td>\n",
       "      <td>36624.603085</td>\n",
       "      <td>MULTIPOLYGON (((-87.67441 41.97610, -87.67440 ...</td>\n",
       "    </tr>\n",
       "    <tr>\n",
       "      <th>47</th>\n",
       "      <td>5</td>\n",
       "      <td>North Center</td>\n",
       "      <td>5.705417e+07</td>\n",
       "      <td>31391.669754</td>\n",
       "      <td>MULTIPOLYGON (((-87.67336 41.93234, -87.67342 ...</td>\n",
       "    </tr>\n",
       "    <tr>\n",
       "      <th>...</th>\n",
       "      <td>...</td>\n",
       "      <td>...</td>\n",
       "      <td>...</td>\n",
       "      <td>...</td>\n",
       "      <td>...</td>\n",
       "    </tr>\n",
       "    <tr>\n",
       "      <th>72</th>\n",
       "      <td>74</td>\n",
       "      <td>Mount Greenwood</td>\n",
       "      <td>7.558429e+07</td>\n",
       "      <td>48665.130539</td>\n",
       "      <td>MULTIPOLYGON (((-87.69646 41.70714, -87.69644 ...</td>\n",
       "    </tr>\n",
       "    <tr>\n",
       "      <th>73</th>\n",
       "      <td>75</td>\n",
       "      <td>Morgan Park</td>\n",
       "      <td>9.187734e+07</td>\n",
       "      <td>46396.419362</td>\n",
       "      <td>MULTIPOLYGON (((-87.64215 41.68508, -87.64249 ...</td>\n",
       "    </tr>\n",
       "    <tr>\n",
       "      <th>74</th>\n",
       "      <td>76</td>\n",
       "      <td>Ohare</td>\n",
       "      <td>3.718356e+08</td>\n",
       "      <td>173625.984660</td>\n",
       "      <td>MULTIPOLYGON (((-87.83658 41.98640, -87.83658 ...</td>\n",
       "    </tr>\n",
       "    <tr>\n",
       "      <th>75</th>\n",
       "      <td>77</td>\n",
       "      <td>Edgewater</td>\n",
       "      <td>4.844999e+07</td>\n",
       "      <td>31004.830946</td>\n",
       "      <td>MULTIPOLYGON (((-87.65456 41.99817, -87.65456 ...</td>\n",
       "    </tr>\n",
       "    <tr>\n",
       "      <th>77</th>\n",
       "      <td>78</td>\n",
       "      <td>City Of Evanston</td>\n",
       "      <td>0.000000e+00</td>\n",
       "      <td>0.000000</td>\n",
       "      <td>MULTIPOLYGON (((-87.67960 42.07159, -87.67959 ...</td>\n",
       "    </tr>\n",
       "  </tbody>\n",
       "</table>\n",
       "<p>78 rows × 5 columns</p>\n",
       "</div>"
      ],
      "text/plain": [
       "    area_number    community_name    shape_area      shape_len  \\\n",
       "9             1       Rogers Park  5.125990e+07   34052.397576   \n",
       "19            2        West Ridge  9.842909e+07   43020.689458   \n",
       "30            3            Uptown  6.509564e+07   46972.794555   \n",
       "5             4    Lincoln Square  7.135233e+07   36624.603085   \n",
       "47            5      North Center  5.705417e+07   31391.669754   \n",
       "..          ...               ...           ...            ...   \n",
       "72           74   Mount Greenwood  7.558429e+07   48665.130539   \n",
       "73           75       Morgan Park  9.187734e+07   46396.419362   \n",
       "74           76             Ohare  3.718356e+08  173625.984660   \n",
       "75           77         Edgewater  4.844999e+07   31004.830946   \n",
       "77           78  City Of Evanston  0.000000e+00       0.000000   \n",
       "\n",
       "                                         new_geometry  \n",
       "9   MULTIPOLYGON (((-87.65456 41.99817, -87.65574 ...  \n",
       "19  MULTIPOLYGON (((-87.68465 42.01948, -87.68464 ...  \n",
       "30  MULTIPOLYGON (((-87.64102 41.95480, -87.64400 ...  \n",
       "5   MULTIPOLYGON (((-87.67441 41.97610, -87.67440 ...  \n",
       "47  MULTIPOLYGON (((-87.67336 41.93234, -87.67342 ...  \n",
       "..                                                ...  \n",
       "72  MULTIPOLYGON (((-87.69646 41.70714, -87.69644 ...  \n",
       "73  MULTIPOLYGON (((-87.64215 41.68508, -87.64249 ...  \n",
       "74  MULTIPOLYGON (((-87.83658 41.98640, -87.83658 ...  \n",
       "75  MULTIPOLYGON (((-87.65456 41.99817, -87.65456 ...  \n",
       "77  MULTIPOLYGON (((-87.67960 42.07159, -87.67959 ...  \n",
       "\n",
       "[78 rows x 5 columns]"
      ]
     },
     "execution_count": 16,
     "metadata": {},
     "output_type": "execute_result"
    }
   ],
   "source": [
    "# Lets also sort the dataframe by the area number in ascending order:\n",
    "gdf_areas.sort_values(by= [\"area_number\"], inplace=True)\n",
    "gdf_areas"
   ]
  },
  {
   "cell_type": "markdown",
   "metadata": {},
   "source": [
    "Finally we have a GeoDataFrame with all 77 Districts of Chicago, and additonaly the City of Evanston (area Number 78)\n",
    "Now we Can use this GeoDataFrame as a basis for all our visualizations:"
   ]
  },
  {
   "cell_type": "markdown",
   "metadata": {},
   "source": [
    "## 5. Visualizing District areas on interactive map"
   ]
  },
  {
   "cell_type": "markdown",
   "metadata": {},
   "source": [
    "Lets visualize only the district OHare (airport Area) of chicago\n",
    "Use the following link, to be able to display the map:\n",
    "[nbviewer link](https://nbviewer.org/github/Brettmett/Divvy_Bikeshare_Chicago/blob/main/01_get_geodata_districts_chicago.ipynb)"
   ]
  },
  {
   "cell_type": "code",
   "execution_count": null,
   "metadata": {},
   "outputs": [],
   "source": [
    "gdf_areas[gdf_areas[\"community_name\"]==\"Ohare\"].explore()"
   ]
  },
  {
   "cell_type": "markdown",
   "metadata": {},
   "source": [
    "Lets visualize all districts of the city of chicago"
   ]
  },
  {
   "cell_type": "markdown",
   "metadata": {},
   "source": [
    "Use the following link, to be able to display the map:\n",
    "[nbviewer link](https://nbviewer.org/github/Brettmett/Divvy_Bikeshare_Chicago/blob/main/01_get_geodata_districts_chicago.ipynb)"
   ]
  },
  {
   "cell_type": "code",
   "execution_count": null,
   "metadata": {},
   "outputs": [],
   "source": [
    "gdf_areas.explore()"
   ]
  },
  {
   "cell_type": "markdown",
   "metadata": {},
   "source": [
    "## 6. Upload to SQL Database"
   ]
  },
  {
   "cell_type": "code",
   "execution_count": null,
   "metadata": {},
   "outputs": [],
   "source": [
    "# constants:\n",
    "path = \"data/\"\n",
    "schema = \"capstone_divvy_bikeshare\"\n",
    "engine = sf.get_engine()"
   ]
  },
  {
   "cell_type": "code",
   "execution_count": null,
   "metadata": {},
   "outputs": [],
   "source": [
    "# # Push DataFrame with stations to SQL Database:\n",
    "# table_name = 'community_areas'\n",
    "\n",
    "# gdf_areas.to_sql(name=table_name, # Name of SQL table\n",
    "#                     con=engine, # Engine or connection\n",
    "#                     if_exists='replace', # Drop the table before inserting new values \n",
    "#                     schema=schema, # Use schema that was defined earlier\n",
    "#                     index=False, # Write DataFrame index as a column\n",
    "#                     chunksize=5000, # Specify the number of rows in each batch to be written at a time\n",
    "#                     method='multi') # Pass multiple values in a single INSERT clause\n",
    "# print(f\"The {table_name} table was imported successfully.\")"
   ]
  }
 ],
 "metadata": {
  "kernelspec": {
   "display_name": "nf_sql_geo",
   "language": "python",
   "name": "python3"
  },
  "language_info": {
   "codemirror_mode": {
    "name": "ipython",
    "version": 3
   },
   "file_extension": ".py",
   "mimetype": "text/x-python",
   "name": "python",
   "nbconvert_exporter": "python",
   "pygments_lexer": "ipython3",
   "version": "3.9.17"
  },
  "orig_nbformat": 4
 },
 "nbformat": 4,
 "nbformat_minor": 2
}
