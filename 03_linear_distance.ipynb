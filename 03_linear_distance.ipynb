{
 "cells": [
  {
   "cell_type": "markdown",
   "metadata": {},
   "source": [
    "GOAL: Calculate linear distance from start to end point for every trip in 2022\n",
    "\n",
    "    Since Divvy does not provide data about the distance traveled in each trip, I will calculate the linear distance of the starting and ending location. \n",
    "\n",
    "    1. Load SQL Trips Table into Dataframe and transform to GeoDataFrame\n",
    "    2. Create a shapelly Linestring that connects the start and endpoint\n",
    "    3. Calculate the length of each Linestring\n",
    "    4. Basic visualization (Distribution of linear distances of all Trips)"
   ]
  },
  {
   "cell_type": "markdown",
   "metadata": {},
   "source": [
    "To be able to see the Visualizations, use this Link:\n",
    "[Notebook Viewer](https://nbviewer.org/github/Brettmett/Divvy_Bikeshare_Chicago/tree/main/)"
   ]
  },
  {
   "cell_type": "code",
   "execution_count": 1,
   "metadata": {},
   "outputs": [],
   "source": [
    "# pandas\n",
    "import pandas as pd\n",
    "\n",
    "# additional import of the geopandas package\n",
    "import geopandas as gpd\n",
    "\n",
    "# numpy\n",
    "import numpy as np\n",
    "\n",
    "# import mathplotlib.pyplot as plt\n",
    "import matplotlib.pyplot as plt\n",
    "\n",
    "# shapely.geometry      Package shapely.geomerty is usefull to for checking, whether a point is inside a polygon and converting string type\n",
    "from shapely import wkt\n",
    "from shapely.geometry import Polygon, LineString, Point, MultiLineString\n",
    "\n",
    "# importing self made functions from sql_functions script\n",
    "import sql_functions as sf"
   ]
  },
  {
   "cell_type": "markdown",
   "metadata": {},
   "source": [
    "## 1. Loading Trips 2022 (see notebook 02_merge_areas_trips_data.ipynb) from SQL Database and transform to GeoDataFrame"
   ]
  },
  {
   "cell_type": "code",
   "execution_count": 2,
   "metadata": {},
   "outputs": [],
   "source": [
    "# Schemaname\n",
    "schema = \"capstone_divvy_bikeshare\""
   ]
  },
  {
   "cell_type": "code",
   "execution_count": 3,
   "metadata": {},
   "outputs": [],
   "source": [
    "# Loading Table 2022_v4 from SQL into dataframe\n",
    "#df_trips_2022 = sf.get_dataframe(f\"select * from {schema}.trips_2022_v4\")\n",
    "df_trips_2022 = sf.get_dataframe(f\"SELECT ride_id, start_point, end_point, start_area_number, end_area_number, start_community_name, end_community_name  From {schema}.trips_2022_v4\")"
   ]
  },
  {
   "cell_type": "code",
   "execution_count": 4,
   "metadata": {},
   "outputs": [
    {
     "name": "stdout",
     "output_type": "stream",
     "text": [
      "<class 'pandas.core.frame.DataFrame'>\n",
      "RangeIndex: 5540772 entries, 0 to 5540771\n",
      "Data columns (total 7 columns):\n",
      " #   Column                Dtype \n",
      "---  ------                ----- \n",
      " 0   ride_id               object\n",
      " 1   start_point           object\n",
      " 2   end_point             object\n",
      " 3   start_area_number     int64 \n",
      " 4   end_area_number       int64 \n",
      " 5   start_community_name  object\n",
      " 6   end_community_name    object\n",
      "dtypes: int64(2), object(5)\n",
      "memory usage: 295.9+ MB\n"
     ]
    }
   ],
   "source": [
    "df_trips_2022.info()"
   ]
  },
  {
   "cell_type": "markdown",
   "metadata": {},
   "source": [
    "Transforming to GeoDataFrame: by Using \"to_gdf_new(\")\", defined in the \"sql_functions.py\" script."
   ]
  },
  {
   "cell_type": "code",
   "execution_count": 5,
   "metadata": {},
   "outputs": [],
   "source": [
    "# converting start_point column to shapely geometry creating geodataframe crs = \"WGS 84\"\n",
    "gdf_trips_2022 = sf.to_gdf_new(df_trips_2022, geometry_column=\"start_point\")    \n",
    "# converting end_point column to shapely geometry and creating geodataframe crs = \"WGS 84\"\n",
    "gdf_trips_2022 = sf.to_gdf_new(gdf_trips_2022, geometry_column=\"end_point\")"
   ]
  },
  {
   "cell_type": "markdown",
   "metadata": {},
   "source": [
    "As we can see, we created a GeoDataFrame with two geometry columns:"
   ]
  },
  {
   "cell_type": "code",
   "execution_count": 6,
   "metadata": {},
   "outputs": [
    {
     "name": "stdout",
     "output_type": "stream",
     "text": [
      "<class 'geopandas.geodataframe.GeoDataFrame'>\n",
      "RangeIndex: 5540772 entries, 0 to 5540771\n",
      "Data columns (total 7 columns):\n",
      " #   Column                Dtype   \n",
      "---  ------                -----   \n",
      " 0   ride_id               object  \n",
      " 1   start_point           geometry\n",
      " 2   end_point             geometry\n",
      " 3   start_area_number     int64   \n",
      " 4   end_area_number       int64   \n",
      " 5   start_community_name  object  \n",
      " 6   end_community_name    object  \n",
      "dtypes: geometry(2), int64(2), object(3)\n",
      "memory usage: 295.9+ MB\n"
     ]
    }
   ],
   "source": [
    "gdf_trips_2022.info()"
   ]
  },
  {
   "cell_type": "code",
   "execution_count": null,
   "metadata": {},
   "outputs": [],
   "source": []
  },
  {
   "cell_type": "code",
   "execution_count": null,
   "metadata": {},
   "outputs": [],
   "source": []
  },
  {
   "cell_type": "markdown",
   "metadata": {},
   "source": [
    "## 2. Create a shapely Linestring Object that connects the start and endpoint"
   ]
  },
  {
   "cell_type": "markdown",
   "metadata": {},
   "source": [
    "#### PYPROJ: Lets calculate the distance/ Length of a Linestring in meters, by  using the pyproj package:\n",
    "    * Source: https://pyproj4.github.io/pyproj/stable/api/geod.html#pyproj.Geod.geometry_length\n",
    "    * This Package allows us to calculate the length of shapely geometries in meters\n",
    "    * For this use the Function:    geometry_length(geometry, radians: bool = False) → float[source]"
   ]
  },
  {
   "cell_type": "code",
   "execution_count": 7,
   "metadata": {},
   "outputs": [],
   "source": [
    "# Importing pyproj package, to define an ellipsoid\n",
    "from pyproj import Geod"
   ]
  },
  {
   "cell_type": "markdown",
   "metadata": {},
   "source": [
    "Creating a shapely LineString object for a specific trip:"
   ]
  },
  {
   "cell_type": "code",
   "execution_count": 19,
   "metadata": {},
   "outputs": [],
   "source": [
    "# Calculating the length of the first Trip in the dataset: index number 1\n",
    "line_string = LineString([gdf_trips_2022[\"start_point\"][1],gdf_trips_2022[\"end_point\"][1]])   "
   ]
  },
  {
   "cell_type": "code",
   "execution_count": 28,
   "metadata": {},
   "outputs": [
    {
     "data": {
      "image/svg+xml": [
       "<svg xmlns=\"http://www.w3.org/2000/svg\" xmlns:xlink=\"http://www.w3.org/1999/xlink\" width=\"100.0\" height=\"100.0\" viewBox=\"-87.6618992 41.871757800000005 0.005382399999987797 0.01175039999999683\" preserveAspectRatio=\"xMinYMin meet\"><g transform=\"matrix(1,0,0,-1,0,83.755266)\"><polyline fill=\"none\" stroke=\"#66cc99\" stroke-width=\"0.0002350079999999366\" points=\"-87.661464,41.872193 -87.656952,41.883073\" opacity=\"0.8\" /></g></svg>"
      ],
      "text/plain": [
       "<LINESTRING (-87.7 41.9, -87.7 41.9)>"
      ]
     },
     "execution_count": 28,
     "metadata": {},
     "output_type": "execute_result"
    }
   ],
   "source": [
    "line_string"
   ]
  },
  {
   "cell_type": "markdown",
   "metadata": {},
   "source": [
    "Defining Ellipsoid"
   ]
  },
  {
   "cell_type": "code",
   "execution_count": 29,
   "metadata": {},
   "outputs": [],
   "source": [
    "geod = Geod(ellps=\"WGS84\")                  # what kind of ellipsoid do you use? Initialize a Geod class instance"
   ]
  },
  {
   "cell_type": "markdown",
   "metadata": {},
   "source": [
    "Calculating Linear Distance in meters"
   ]
  },
  {
   "cell_type": "code",
   "execution_count": 30,
   "metadata": {},
   "outputs": [
    {
     "data": {
      "text/plain": [
       "1265.1615195241993"
      ]
     },
     "execution_count": 30,
     "metadata": {},
     "output_type": "execute_result"
    }
   ],
   "source": [
    "geod.geometry_length(line_string)           # Applying geometry_length function on Ellipsoid\n",
    "                                            # ---> the airdistance between starting an ending location is x Meters..."
   ]
  },
  {
   "cell_type": "markdown",
   "metadata": {},
   "source": [
    "#### Adding Column with the Linestring geometry for every trip:"
   ]
  },
  {
   "cell_type": "code",
   "execution_count": 32,
   "metadata": {},
   "outputs": [],
   "source": [
    "# Adding a Linestring geometry to every trip, for the direct way (direct connection) between start and endpoint:\n",
    "gdf_trips_2022[\"linestring\"] = [LineString([gdf_trips_2022[\"start_point\"][i],gdf_trips_2022[\"end_point\"][i]]) for i in gdf_trips_2022.index]"
   ]
  },
  {
   "cell_type": "code",
   "execution_count": null,
   "metadata": {},
   "outputs": [],
   "source": [
    "gdf_trips_2022[\"linestring\"].sample(1000).explore()"
   ]
  },
  {
   "cell_type": "code",
   "execution_count": 33,
   "metadata": {},
   "outputs": [
    {
     "data": {
      "text/html": [
       "<div>\n",
       "<style scoped>\n",
       "    .dataframe tbody tr th:only-of-type {\n",
       "        vertical-align: middle;\n",
       "    }\n",
       "\n",
       "    .dataframe tbody tr th {\n",
       "        vertical-align: top;\n",
       "    }\n",
       "\n",
       "    .dataframe thead th {\n",
       "        text-align: right;\n",
       "    }\n",
       "</style>\n",
       "<table border=\"1\" class=\"dataframe\">\n",
       "  <thead>\n",
       "    <tr style=\"text-align: right;\">\n",
       "      <th></th>\n",
       "      <th>ride_id</th>\n",
       "      <th>start_point</th>\n",
       "      <th>end_point</th>\n",
       "      <th>start_area_number</th>\n",
       "      <th>end_area_number</th>\n",
       "      <th>start_community_name</th>\n",
       "      <th>end_community_name</th>\n",
       "      <th>linestring</th>\n",
       "    </tr>\n",
       "  </thead>\n",
       "  <tbody>\n",
       "    <tr>\n",
       "      <th>0</th>\n",
       "      <td>0F5A862EB08884FF</td>\n",
       "      <td>POINT (-87.62209 41.89058)</td>\n",
       "      <td>POINT (-87.63844 41.89467)</td>\n",
       "      <td>8</td>\n",
       "      <td>8</td>\n",
       "      <td>Near North Side</td>\n",
       "      <td>Near North Side</td>\n",
       "      <td>LINESTRING (-87.622086 41.890577, -87.638437 4...</td>\n",
       "    </tr>\n",
       "    <tr>\n",
       "      <th>1</th>\n",
       "      <td>285E25EA6F0D6445</td>\n",
       "      <td>POINT (-87.61000 41.81000)</td>\n",
       "      <td>POINT (-87.60000 41.81000)</td>\n",
       "      <td>38</td>\n",
       "      <td>39</td>\n",
       "      <td>Grand Boulevard</td>\n",
       "      <td>Kenwood</td>\n",
       "      <td>LINESTRING (-87.61 41.81, -87.59999999999999 4...</td>\n",
       "    </tr>\n",
       "    <tr>\n",
       "      <th>2</th>\n",
       "      <td>CD1B644C9A96A572</td>\n",
       "      <td>POINT (-87.66146 41.87219)</td>\n",
       "      <td>POINT (-87.65695 41.88307)</td>\n",
       "      <td>28</td>\n",
       "      <td>28</td>\n",
       "      <td>Near West Side</td>\n",
       "      <td>Near West Side</td>\n",
       "      <td>LINESTRING (-87.661464 41.872193, -87.656952 4...</td>\n",
       "    </tr>\n",
       "  </tbody>\n",
       "</table>\n",
       "</div>"
      ],
      "text/plain": [
       "            ride_id                 start_point                   end_point  \\\n",
       "0  0F5A862EB08884FF  POINT (-87.62209 41.89058)  POINT (-87.63844 41.89467)   \n",
       "1  285E25EA6F0D6445  POINT (-87.61000 41.81000)  POINT (-87.60000 41.81000)   \n",
       "2  CD1B644C9A96A572  POINT (-87.66146 41.87219)  POINT (-87.65695 41.88307)   \n",
       "\n",
       "   start_area_number  end_area_number start_community_name end_community_name  \\\n",
       "0                  8                8      Near North Side    Near North Side   \n",
       "1                 38               39      Grand Boulevard            Kenwood   \n",
       "2                 28               28       Near West Side     Near West Side   \n",
       "\n",
       "                                          linestring  \n",
       "0  LINESTRING (-87.622086 41.890577, -87.638437 4...  \n",
       "1  LINESTRING (-87.61 41.81, -87.59999999999999 4...  \n",
       "2  LINESTRING (-87.661464 41.872193, -87.656952 4...  "
      ]
     },
     "execution_count": 33,
     "metadata": {},
     "output_type": "execute_result"
    }
   ],
   "source": [
    "gdf_trips_2022.head(3)"
   ]
  },
  {
   "cell_type": "markdown",
   "metadata": {},
   "source": [
    "#### Adding Column with the linear distance between start and end point to DataFrame:"
   ]
  },
  {
   "cell_type": "code",
   "execution_count": 34,
   "metadata": {},
   "outputs": [],
   "source": [
    "#  calculation length of every LineString and storing it in column \"airdistance_meters\" \n",
    "gdf_trips_2022[\"airdistance_meters\"] = [geod.geometry_length(gdf_trips_2022[\"linestring\"][i]) for i in gdf_trips_2022.index]"
   ]
  },
  {
   "cell_type": "code",
   "execution_count": 35,
   "metadata": {},
   "outputs": [
    {
     "data": {
      "text/html": [
       "<div>\n",
       "<style scoped>\n",
       "    .dataframe tbody tr th:only-of-type {\n",
       "        vertical-align: middle;\n",
       "    }\n",
       "\n",
       "    .dataframe tbody tr th {\n",
       "        vertical-align: top;\n",
       "    }\n",
       "\n",
       "    .dataframe thead th {\n",
       "        text-align: right;\n",
       "    }\n",
       "</style>\n",
       "<table border=\"1\" class=\"dataframe\">\n",
       "  <thead>\n",
       "    <tr style=\"text-align: right;\">\n",
       "      <th></th>\n",
       "      <th>ride_id</th>\n",
       "      <th>start_point</th>\n",
       "      <th>end_point</th>\n",
       "      <th>start_area_number</th>\n",
       "      <th>end_area_number</th>\n",
       "      <th>start_community_name</th>\n",
       "      <th>end_community_name</th>\n",
       "      <th>linestring</th>\n",
       "      <th>airdistance_meters</th>\n",
       "    </tr>\n",
       "  </thead>\n",
       "  <tbody>\n",
       "    <tr>\n",
       "      <th>0</th>\n",
       "      <td>0F5A862EB08884FF</td>\n",
       "      <td>POINT (-87.62209 41.89058)</td>\n",
       "      <td>POINT (-87.63844 41.89467)</td>\n",
       "      <td>8</td>\n",
       "      <td>8</td>\n",
       "      <td>Near North Side</td>\n",
       "      <td>Near North Side</td>\n",
       "      <td>LINESTRING (-87.622086 41.890577, -87.638437 4...</td>\n",
       "      <td>1430.955075</td>\n",
       "    </tr>\n",
       "    <tr>\n",
       "      <th>1</th>\n",
       "      <td>285E25EA6F0D6445</td>\n",
       "      <td>POINT (-87.61000 41.81000)</td>\n",
       "      <td>POINT (-87.60000 41.81000)</td>\n",
       "      <td>38</td>\n",
       "      <td>39</td>\n",
       "      <td>Grand Boulevard</td>\n",
       "      <td>Kenwood</td>\n",
       "      <td>LINESTRING (-87.61 41.81, -87.59999999999999 4...</td>\n",
       "      <td>830.967660</td>\n",
       "    </tr>\n",
       "    <tr>\n",
       "      <th>2</th>\n",
       "      <td>CD1B644C9A96A572</td>\n",
       "      <td>POINT (-87.66146 41.87219)</td>\n",
       "      <td>POINT (-87.65695 41.88307)</td>\n",
       "      <td>28</td>\n",
       "      <td>28</td>\n",
       "      <td>Near West Side</td>\n",
       "      <td>Near West Side</td>\n",
       "      <td>LINESTRING (-87.661464 41.872193, -87.656952 4...</td>\n",
       "      <td>1265.161520</td>\n",
       "    </tr>\n",
       "  </tbody>\n",
       "</table>\n",
       "</div>"
      ],
      "text/plain": [
       "            ride_id                 start_point                   end_point  \\\n",
       "0  0F5A862EB08884FF  POINT (-87.62209 41.89058)  POINT (-87.63844 41.89467)   \n",
       "1  285E25EA6F0D6445  POINT (-87.61000 41.81000)  POINT (-87.60000 41.81000)   \n",
       "2  CD1B644C9A96A572  POINT (-87.66146 41.87219)  POINT (-87.65695 41.88307)   \n",
       "\n",
       "   start_area_number  end_area_number start_community_name end_community_name  \\\n",
       "0                  8                8      Near North Side    Near North Side   \n",
       "1                 38               39      Grand Boulevard            Kenwood   \n",
       "2                 28               28       Near West Side     Near West Side   \n",
       "\n",
       "                                          linestring  airdistance_meters  \n",
       "0  LINESTRING (-87.622086 41.890577, -87.638437 4...         1430.955075  \n",
       "1  LINESTRING (-87.61 41.81, -87.59999999999999 4...          830.967660  \n",
       "2  LINESTRING (-87.661464 41.872193, -87.656952 4...         1265.161520  "
      ]
     },
     "execution_count": 35,
     "metadata": {},
     "output_type": "execute_result"
    }
   ],
   "source": [
    "gdf_trips_2022.head(3)"
   ]
  },
  {
   "cell_type": "markdown",
   "metadata": {},
   "source": [
    "## 4. Some basic Visualizations on airdistance."
   ]
  },
  {
   "cell_type": "code",
   "execution_count": 40,
   "metadata": {},
   "outputs": [],
   "source": [
    "# importing seaborn for some basic visualizations:\n",
    "import seaborn as sns"
   ]
  },
  {
   "cell_type": "code",
   "execution_count": 52,
   "metadata": {},
   "outputs": [
    {
     "data": {
      "image/png": "[encoded data removed]",
      "text/plain": [
       "<Figure size 640x480 with 1 Axes>"
      ]
     },
     "metadata": {},
     "output_type": "display_data"
    }
   ],
   "source": [
    "sns.histplot(data=gdf_trips_2022, x=\"airdistance_meters\",binrange=(0, 15000), bins=50);"
   ]
  },
  {
   "cell_type": "code",
   "execution_count": null,
   "metadata": {},
   "outputs": [],
   "source": []
  }
 ],
 "metadata": {
  "kernelspec": {
   "display_name": "nf_sql_geo",
   "language": "python",
   "name": "python3"
  },
  "language_info": {
   "codemirror_mode": {
    "name": "ipython",
    "version": 3
   },
   "file_extension": ".py",
   "mimetype": "text/x-python",
   "name": "python",
   "nbconvert_exporter": "python",
   "pygments_lexer": "ipython3",
   "version": "3.9.17"
  },
  "orig_nbformat": 4
 },
 "nbformat": 4,
 "nbformat_minor": 2
}
